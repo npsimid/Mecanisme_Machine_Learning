{
 "cells": [
  {
   "cell_type": "markdown",
   "id": "3c16037b",
   "metadata": {},
   "source": [
    "# Continut\n",
    "## [1. Procedura de divizare train-test](#train)\n",
    "## [2. Procedura de divizare train-valid-test](#valid)\n",
    "## [3. Procedura cross validation utilizand functia cross_val_score](#cross)\n",
    "## [4. Procedura cross validation utilizand functia cross_validate](#validate)\n",
    "## [5. Procedura Grid Search](#grid)"
   ]
  },
  {
   "cell_type": "code",
   "execution_count": 1,
   "id": "3b27564d",
   "metadata": {},
   "outputs": [],
   "source": [
    "# importul bibliotecilor\n",
    "import numpy as np\n",
    "import pandas as pd\n",
    "import matplotlib.pyplot as plt\n",
    "import seaborn as sns"
   ]
  },
  {
   "cell_type": "code",
   "execution_count": 4,
   "id": "26e7e9e3",
   "metadata": {},
   "outputs": [],
   "source": [
    "df = pd.read_csv(\"Advertising.csv\", index_col=0)"
   ]
  },
  {
   "cell_type": "code",
   "execution_count": 5,
   "id": "338029f3",
   "metadata": {},
   "outputs": [
    {
     "data": {
      "text/html": [
       "<div>\n",
       "<style scoped>\n",
       "    .dataframe tbody tr th:only-of-type {\n",
       "        vertical-align: middle;\n",
       "    }\n",
       "\n",
       "    .dataframe tbody tr th {\n",
       "        vertical-align: top;\n",
       "    }\n",
       "\n",
       "    .dataframe thead th {\n",
       "        text-align: right;\n",
       "    }\n",
       "</style>\n",
       "<table border=\"1\" class=\"dataframe\">\n",
       "  <thead>\n",
       "    <tr style=\"text-align: right;\">\n",
       "      <th></th>\n",
       "      <th>TV</th>\n",
       "      <th>Radio</th>\n",
       "      <th>Newspaper</th>\n",
       "      <th>Sales</th>\n",
       "    </tr>\n",
       "  </thead>\n",
       "  <tbody>\n",
       "    <tr>\n",
       "      <th>1</th>\n",
       "      <td>230.1</td>\n",
       "      <td>37.8</td>\n",
       "      <td>69.2</td>\n",
       "      <td>22.1</td>\n",
       "    </tr>\n",
       "    <tr>\n",
       "      <th>2</th>\n",
       "      <td>44.5</td>\n",
       "      <td>39.3</td>\n",
       "      <td>45.1</td>\n",
       "      <td>10.4</td>\n",
       "    </tr>\n",
       "    <tr>\n",
       "      <th>3</th>\n",
       "      <td>17.2</td>\n",
       "      <td>45.9</td>\n",
       "      <td>69.3</td>\n",
       "      <td>9.3</td>\n",
       "    </tr>\n",
       "    <tr>\n",
       "      <th>4</th>\n",
       "      <td>151.5</td>\n",
       "      <td>41.3</td>\n",
       "      <td>58.5</td>\n",
       "      <td>18.5</td>\n",
       "    </tr>\n",
       "    <tr>\n",
       "      <th>5</th>\n",
       "      <td>180.8</td>\n",
       "      <td>10.8</td>\n",
       "      <td>58.4</td>\n",
       "      <td>12.9</td>\n",
       "    </tr>\n",
       "  </tbody>\n",
       "</table>\n",
       "</div>"
      ],
      "text/plain": [
       "      TV  Radio  Newspaper  Sales\n",
       "1  230.1   37.8       69.2   22.1\n",
       "2   44.5   39.3       45.1   10.4\n",
       "3   17.2   45.9       69.3    9.3\n",
       "4  151.5   41.3       58.5   18.5\n",
       "5  180.8   10.8       58.4   12.9"
      ]
     },
     "execution_count": 5,
     "metadata": {},
     "output_type": "execute_result"
    }
   ],
   "source": [
    "df.head()"
   ]
  },
  {
   "cell_type": "markdown",
   "id": "75fe0418",
   "metadata": {},
   "source": [
    "<a id='train'></a>\n",
    "# 1. Procedura de divizare train-test\n",
    "\n",
    "•\tPrelucrarea și ajustarea datelor în setul X și y\n",
    "\n",
    "•\tDivizarea seturilor X și y în seturi train și seturi test\n",
    "\n",
    "•\tCrearea și ajustarea unui obiecte de scalarea pe X_train\n",
    "\n",
    "•\tScalarea datelor X_train\n",
    "\n",
    "•\tScalarea datelor X_test\n",
    "\n",
    "•\tCrearea modelului\n",
    "\n",
    "•\tAjustarea modelului pe datele X_train, y_train\n",
    "\n",
    "•\tRealizarea predicție (y_pred) pe datele X_test\n",
    "\n",
    "•\tEvaluarea modelului comparând y_pred cu y_test\n",
    "\n",
    "•\tAjustarea hiperparametrilor modelului si reperarea ultimilor pasi\n"
   ]
  },
  {
   "cell_type": "code",
   "execution_count": 7,
   "id": "d7fadd97",
   "metadata": {},
   "outputs": [],
   "source": [
    "# Divizarea datelor in set X si set y\n",
    "X=df.drop('Sales', axis=1)\n",
    "y = df['Sales']"
   ]
  },
  {
   "cell_type": "code",
   "execution_count": 9,
   "id": "b71dbb47",
   "metadata": {},
   "outputs": [],
   "source": [
    "# Divizarea seturilor X și y în seturi train și seturi test\n",
    "from sklearn.model_selection import train_test_split\n",
    "X_train, X_test, y_train, y_test = train_test_split(X, y, test_size=0.3, random_state=9)"
   ]
  },
  {
   "cell_type": "code",
   "execution_count": 10,
   "id": "7e9dd778",
   "metadata": {},
   "outputs": [
    {
     "data": {
      "text/plain": [
       "StandardScaler()"
      ]
     },
     "execution_count": 10,
     "metadata": {},
     "output_type": "execute_result"
    }
   ],
   "source": [
    "# Crearea și ajustarea unui obiecte de scalarea pe X_train\n",
    "from sklearn.preprocessing import StandardScaler\n",
    "scaler= StandardScaler()\n",
    "scaler.fit(X_train)"
   ]
  },
  {
   "cell_type": "code",
   "execution_count": 11,
   "id": "62817abe",
   "metadata": {},
   "outputs": [],
   "source": [
    "# Scalarea datelor X_train\n",
    "X_train = scaler.transform(X_train)"
   ]
  },
  {
   "cell_type": "code",
   "execution_count": 12,
   "id": "a70ae55b",
   "metadata": {},
   "outputs": [],
   "source": [
    "# Scalarea datelor X_test\n",
    "X_test = scaler.transform(X_test)"
   ]
  },
  {
   "cell_type": "code",
   "execution_count": 13,
   "id": "56eec32f",
   "metadata": {},
   "outputs": [],
   "source": [
    "# Crearea modelului\n",
    "from sklearn.linear_model import Ridge\n",
    "model = Ridge(alpha=100)"
   ]
  },
  {
   "cell_type": "code",
   "execution_count": 14,
   "id": "35fc28ec",
   "metadata": {},
   "outputs": [
    {
     "data": {
      "text/plain": [
       "Ridge(alpha=100)"
      ]
     },
     "execution_count": 14,
     "metadata": {},
     "output_type": "execute_result"
    }
   ],
   "source": [
    "# Ajustarea modelului pe datele X_train, y_train\n",
    "model.fit(X_train, y_train)"
   ]
  },
  {
   "cell_type": "code",
   "execution_count": 15,
   "id": "c70bf3af",
   "metadata": {},
   "outputs": [],
   "source": [
    "# Realizarea predicție (y_pred) pe datele X_test\n",
    "y_pred = model.predict(X_test)"
   ]
  },
  {
   "cell_type": "code",
   "execution_count": 16,
   "id": "a9355af3",
   "metadata": {},
   "outputs": [
    {
     "data": {
      "text/plain": [
       "5.979651600134026"
      ]
     },
     "execution_count": 16,
     "metadata": {},
     "output_type": "execute_result"
    }
   ],
   "source": [
    "# Evaluarea modelului comparând y_pred cu y_test\n",
    "from sklearn.metrics import mean_squared_error\n",
    "mean_squared_error(y_test, y_pred)"
   ]
  },
  {
   "cell_type": "code",
   "execution_count": 17,
   "id": "d3b8e694",
   "metadata": {},
   "outputs": [
    {
     "data": {
      "text/plain": [
       "2.442019967389603"
      ]
     },
     "execution_count": 17,
     "metadata": {},
     "output_type": "execute_result"
    }
   ],
   "source": [
    "# Ajustarea hiperparametrului alpha si reperarea ultimilor pasi\n",
    "model_2 = Ridge(alpha=1)\n",
    "model_2.fit(X_train, y_train)\n",
    "y_pred_2 = model_2.predict(X_test)\n",
    "mean_squared_error(y_test, y_pred_2)"
   ]
  },
  {
   "cell_type": "markdown",
   "id": "c71f8f61",
   "metadata": {},
   "source": [
    "#### Neajuns: La ajustarea hiperparametrilor se va considera eroarea predictiei care la randul ei depinde de datele de test adica parametrii modelului vor fi influentati de datele de test si in acest caz nu se poate considera ca performatele modelului au fost obtinute pe date noi nevazute anterior"
   ]
  },
  {
   "cell_type": "markdown",
   "id": "e9d4bb92",
   "metadata": {},
   "source": [
    "<a id='valid'></a>\n",
    "# 2. Procedura de divizare train-valid-test\n",
    "•\tPrelucrarea și ajustarea datelor în setul X și y\n",
    "\n",
    "•\tDivizarea seturilor X și y în seturi train, seturi valid și seturi test\n",
    "\n",
    "•\tCrearea și ajustarea unui obiecte de scalarea pe X_train\n",
    "\n",
    "•\tScalarea datelor X_train\n",
    "\n",
    "•\tScalarea datelor X_test\n",
    "\n",
    "•\tScalarea datelor X_valid\n",
    "\n",
    "•\tCrearea modelului\n",
    "\n",
    "•\tAjustarea modelului pe datele X_train, y_train\n",
    "\n",
    "•\tRealizarea predicție (y_pred) pe datele X_valid\n",
    "\n",
    "•\tEvaluarea modelului comparând y_pred cu y_valid\n",
    "\n",
    "•\tAjustarea hiperparametrilor modelului si reperarea ultimilor pasi\n",
    "\n",
    "•\tRealizarea predicție finale (y_pred_final) pe datele X_test\n",
    "\n",
    "•\tEvaluarea finală a modelului comparând y_pred_final cu y_test\n"
   ]
  },
  {
   "cell_type": "code",
   "execution_count": 18,
   "id": "e640be1d",
   "metadata": {},
   "outputs": [],
   "source": [
    "# Divizarea datelor in set X si set y\n",
    "X=df.drop('Sales', axis=1)\n",
    "y = df['Sales']"
   ]
  },
  {
   "cell_type": "code",
   "execution_count": 19,
   "id": "b8a17e54",
   "metadata": {},
   "outputs": [],
   "source": [
    "# Divizarea seturilor X și y în seturi train, seturi valid și seturi test\n",
    "from sklearn.model_selection import train_test_split\n",
    "X_train, X_alte, y_train, y_alte = train_test_split(X, y, test_size=0.3, random_state=9)\n",
    "X_valid, X_test, y_valid, y_test = train_test_split(X_alte, y_alte, test_size=0.5, random_state=9)"
   ]
  },
  {
   "cell_type": "code",
   "execution_count": 20,
   "id": "b7cf1f77",
   "metadata": {},
   "outputs": [
    {
     "data": {
      "text/plain": [
       "StandardScaler()"
      ]
     },
     "execution_count": 20,
     "metadata": {},
     "output_type": "execute_result"
    }
   ],
   "source": [
    "# Crearea și ajustarea unui obiecte de scalarea pe X_train\n",
    "from sklearn.preprocessing import StandardScaler\n",
    "scaler= StandardScaler()\n",
    "scaler.fit(X_train)"
   ]
  },
  {
   "cell_type": "code",
   "execution_count": 21,
   "id": "2402be73",
   "metadata": {},
   "outputs": [],
   "source": [
    "# Scalarea datelor X_train\n",
    "X_train = scaler.transform(X_train)"
   ]
  },
  {
   "cell_type": "code",
   "execution_count": 22,
   "id": "ca14386e",
   "metadata": {},
   "outputs": [],
   "source": [
    "# Scalarea datelor X_test\n",
    "X_test = scaler.transform(X_test)"
   ]
  },
  {
   "cell_type": "code",
   "execution_count": 23,
   "id": "ace995d6",
   "metadata": {},
   "outputs": [],
   "source": [
    "# Scalarea datelor X_valid\n",
    "X_valid = scaler.transform(X_valid)"
   ]
  },
  {
   "cell_type": "code",
   "execution_count": 24,
   "id": "9a5ebd73",
   "metadata": {},
   "outputs": [],
   "source": [
    "# Crearea modelului\n",
    "from sklearn.linear_model import Ridge\n",
    "model = Ridge(alpha=100)"
   ]
  },
  {
   "cell_type": "code",
   "execution_count": 25,
   "id": "27db889b",
   "metadata": {},
   "outputs": [
    {
     "data": {
      "text/plain": [
       "Ridge(alpha=100)"
      ]
     },
     "execution_count": 25,
     "metadata": {},
     "output_type": "execute_result"
    }
   ],
   "source": [
    "# Ajustarea modelului pe datele X_train, y_train\n",
    "model.fit(X_train, y_train)"
   ]
  },
  {
   "cell_type": "code",
   "execution_count": 26,
   "id": "7a92a618",
   "metadata": {},
   "outputs": [],
   "source": [
    "# Realizarea predicție (y_pred) pe datele X_valid\n",
    "y_pred = model.predict(X_valid)"
   ]
  },
  {
   "cell_type": "code",
   "execution_count": 27,
   "id": "e38afb1b",
   "metadata": {},
   "outputs": [
    {
     "data": {
      "text/plain": [
       "7.576602191448104"
      ]
     },
     "execution_count": 27,
     "metadata": {},
     "output_type": "execute_result"
    }
   ],
   "source": [
    "# Evaluarea modelului comparând y_pred cu y_valid\n",
    "from sklearn.metrics import mean_squared_error\n",
    "mean_squared_error(y_valid, y_pred)"
   ]
  },
  {
   "cell_type": "code",
   "execution_count": 28,
   "id": "c74121d9",
   "metadata": {},
   "outputs": [
    {
     "data": {
      "text/plain": [
       "2.124233240675083"
      ]
     },
     "execution_count": 28,
     "metadata": {},
     "output_type": "execute_result"
    }
   ],
   "source": [
    "# Ajustarea hiperparametrului alpha si reperarea ultimilor pasi\n",
    "model_2 = Ridge(alpha=1)\n",
    "model_2.fit(X_train, y_train)\n",
    "y_pred_2 = model_2.predict(X_valid)\n",
    "mean_squared_error(y_valid, y_pred_2)"
   ]
  },
  {
   "cell_type": "code",
   "execution_count": 29,
   "id": "f9e0cd0b",
   "metadata": {},
   "outputs": [
    {
     "data": {
      "text/plain": [
       "2.105622196439744"
      ]
     },
     "execution_count": 29,
     "metadata": {},
     "output_type": "execute_result"
    }
   ],
   "source": [
    "# Ajustarea hiperparametrului alpha si reperarea ultimilor pasi\n",
    "model_3 = Ridge(alpha=0.1)\n",
    "model_3.fit(X_train, y_train)\n",
    "y_pred_3 = model_3.predict(X_valid)\n",
    "mean_squared_error(y_valid, y_pred_3)"
   ]
  },
  {
   "cell_type": "code",
   "execution_count": 30,
   "id": "bc038c8d",
   "metadata": {},
   "outputs": [],
   "source": [
    "# Realizarea predicție ((y_pred_final) pe datele X_test\n",
    "y_pred_final = model_3.predict(X_test)"
   ]
  },
  {
   "cell_type": "code",
   "execution_count": 31,
   "id": "aa200b9c",
   "metadata": {},
   "outputs": [
    {
     "data": {
      "text/plain": [
       "2.7757413324395404"
      ]
     },
     "execution_count": 31,
     "metadata": {},
     "output_type": "execute_result"
    }
   ],
   "source": [
    "# Evaluarea finala a modelului comparând y_pred_final cu y_test\n",
    "from sklearn.metrics import mean_squared_error\n",
    "mean_squared_error(y_test, y_pred_final)"
   ]
  },
  {
   "cell_type": "markdown",
   "id": "45b03bc6",
   "metadata": {},
   "source": [
    "<a id='cross'></a>\n",
    "# 3. Procedura cross validation utilizand functia cross_val_score\n",
    "•\tPrelucrarea și ajustarea datelor în setul X și y\n",
    "\n",
    "•\tDivizarea seturilor X și y în seturi train și seturi test\n",
    "\n",
    "•\tCrearea și ajustarea unui obiecte de scalarea pe X_train\n",
    "\n",
    "•\tScalarea datelor X_train\n",
    "\n",
    "•\tScalarea datelor X_test\n",
    "\n",
    "•\tCrearea modelului\n",
    "\n",
    "•\tRealizarea procedurii cross validation si determinarea erorii medii\n",
    "\n",
    "•\tAjustarea hiperparametrilor modelului si reperarea ultimilor pasi\n",
    "\n",
    "•\tAjustarea modelului pe datele X_train, y_train\n",
    "\n",
    "•\tRealizarea predicție (y_pred) pe datele X_test\n",
    "\n",
    "•\tEvaluarea finala a modelului comparând y_pred cu y_test"
   ]
  },
  {
   "cell_type": "code",
   "execution_count": 47,
   "id": "18b46bfb",
   "metadata": {},
   "outputs": [],
   "source": [
    "# Divizarea datelor in set X si set y\n",
    "X=df.drop('Sales', axis=1)\n",
    "y = df['Sales']"
   ]
  },
  {
   "cell_type": "code",
   "execution_count": 48,
   "id": "3cee8b86",
   "metadata": {},
   "outputs": [],
   "source": [
    "# Divizarea seturilor X și y în seturi train și seturi test\n",
    "from sklearn.model_selection import train_test_split\n",
    "X_train, X_test, y_train, y_test = train_test_split(X, y, test_size=0.2, random_state=9)"
   ]
  },
  {
   "cell_type": "code",
   "execution_count": 49,
   "id": "c32e971e",
   "metadata": {},
   "outputs": [
    {
     "data": {
      "text/plain": [
       "StandardScaler()"
      ]
     },
     "execution_count": 49,
     "metadata": {},
     "output_type": "execute_result"
    }
   ],
   "source": [
    "# Crearea și ajustarea unui obiecte de scalarea pe X_train\n",
    "from sklearn.preprocessing import StandardScaler\n",
    "scaler= StandardScaler()\n",
    "scaler.fit(X_train)"
   ]
  },
  {
   "cell_type": "code",
   "execution_count": 50,
   "id": "110830af",
   "metadata": {},
   "outputs": [],
   "source": [
    "# Scalarea datelor X_train\n",
    "X_train = scaler.transform(X_train)"
   ]
  },
  {
   "cell_type": "code",
   "execution_count": 51,
   "id": "2eaa1318",
   "metadata": {},
   "outputs": [],
   "source": [
    "# Scalarea datelor X_test\n",
    "X_test = scaler.transform(X_test)"
   ]
  },
  {
   "cell_type": "code",
   "execution_count": 52,
   "id": "eab67798",
   "metadata": {},
   "outputs": [],
   "source": [
    "# Crearea modelului\n",
    "from sklearn.linear_model import Ridge\n",
    "model = Ridge(alpha=100)"
   ]
  },
  {
   "cell_type": "code",
   "execution_count": 53,
   "id": "6950cc67",
   "metadata": {},
   "outputs": [
    {
     "name": "stdout",
     "output_type": "stream",
     "text": [
      "[CV] END .................................................... total time=   0.0s\n",
      "[CV] END .................................................... total time=   0.0s\n",
      "[CV] END .................................................... total time=   0.0s\n",
      "[CV] END .................................................... total time=   0.0s\n",
      "[CV] END .................................................... total time=   0.0s\n",
      "7.581816667976649\n"
     ]
    },
    {
     "name": "stderr",
     "output_type": "stream",
     "text": [
      "[Parallel(n_jobs=1)]: Using backend SequentialBackend with 1 concurrent workers.\n",
      "[Parallel(n_jobs=1)]: Done   1 out of   1 | elapsed:    0.0s remaining:    0.0s\n",
      "[Parallel(n_jobs=1)]: Done   5 out of   5 | elapsed:    0.0s finished\n"
     ]
    },
    {
     "data": {
      "text/plain": [
       "array([-6.34153096, -9.44225285, -5.89499347, -8.17499143, -8.05531462])"
      ]
     },
     "execution_count": 53,
     "metadata": {},
     "output_type": "execute_result"
    }
   ],
   "source": [
    "# Realizarea procedurii cross validation si determinarea erorii medii\n",
    "from sklearn.model_selection import cross_val_score\n",
    "scores = cross_val_score(model, X_train, y_train, scoring = \"neg_mean_squared_error\", cv=5, verbose=2)\n",
    "print(abs(scores.mean()))\n",
    "scores"
   ]
  },
  {
   "cell_type": "code",
   "execution_count": 54,
   "id": "db1d144c",
   "metadata": {},
   "outputs": [
    {
     "name": "stdout",
     "output_type": "stream",
     "text": [
      "[CV] END .................................................... total time=   0.0s\n",
      "[CV] END .................................................... total time=   0.0s\n",
      "[CV] END .................................................... total time=   0.0s\n",
      "[CV] END .................................................... total time=   0.0s\n",
      "[CV] END .................................................... total time=   0.0s\n",
      "3.1577407202296937\n"
     ]
    },
    {
     "name": "stderr",
     "output_type": "stream",
     "text": [
      "[Parallel(n_jobs=1)]: Using backend SequentialBackend with 1 concurrent workers.\n",
      "[Parallel(n_jobs=1)]: Done   1 out of   1 | elapsed:    0.0s remaining:    0.0s\n",
      "[Parallel(n_jobs=1)]: Done   5 out of   5 | elapsed:    0.0s finished\n"
     ]
    },
    {
     "data": {
      "text/plain": [
       "array([-2.58324437, -2.81103881, -4.36849726, -2.91447439, -3.11144877])"
      ]
     },
     "execution_count": 54,
     "metadata": {},
     "output_type": "execute_result"
    }
   ],
   "source": [
    "# Ajustarea hiperparametrului alpha si reperarea ultimilor pasi \n",
    "model = Ridge(alpha=1)\n",
    "scores = cross_val_score(model, X_train, y_train, scoring = \"neg_mean_squared_error\", cv=5, verbose=2)\n",
    "print(abs(scores.mean()))\n",
    "scores"
   ]
  },
  {
   "cell_type": "code",
   "execution_count": 55,
   "id": "241d96f1",
   "metadata": {},
   "outputs": [
    {
     "name": "stdout",
     "output_type": "stream",
     "text": [
      "[CV] END .................................................... total time=   0.0s\n",
      "[CV] END .................................................... total time=   0.0s\n",
      "[CV] END .................................................... total time=   0.0s\n",
      "[CV] END .................................................... total time=   0.0s\n",
      "[CV] END .................................................... total time=   0.0s\n",
      "3.156933046863642\n"
     ]
    },
    {
     "name": "stderr",
     "output_type": "stream",
     "text": [
      "[Parallel(n_jobs=1)]: Using backend SequentialBackend with 1 concurrent workers.\n",
      "[Parallel(n_jobs=1)]: Done   1 out of   1 | elapsed:    0.0s remaining:    0.0s\n",
      "[Parallel(n_jobs=1)]: Done   5 out of   5 | elapsed:    0.0s finished\n"
     ]
    },
    {
     "data": {
      "text/plain": [
       "array([-2.58761513, -2.78581154, -4.38583813, -2.90406016, -3.12134029])"
      ]
     },
     "execution_count": 55,
     "metadata": {},
     "output_type": "execute_result"
    }
   ],
   "source": [
    "# Ajustarea hiperparametrului alpha si reperarea ultimilor pasi\n",
    "model = Ridge(alpha=0.1)\n",
    "scores = cross_val_score(model, X_train, y_train, scoring = \"neg_mean_squared_error\", cv=5, verbose=2)\n",
    "print(abs(scores.mean()))\n",
    "scores"
   ]
  },
  {
   "cell_type": "code",
   "execution_count": 56,
   "id": "87abe367",
   "metadata": {},
   "outputs": [
    {
     "data": {
      "text/plain": [
       "Ridge(alpha=0.1)"
      ]
     },
     "execution_count": 56,
     "metadata": {},
     "output_type": "execute_result"
    }
   ],
   "source": [
    "# Ajustarea modelului pe datele X_train, y_train\n",
    "model.fit(X_train, y_train)"
   ]
  },
  {
   "cell_type": "code",
   "execution_count": 57,
   "id": "99f5eb39",
   "metadata": {},
   "outputs": [],
   "source": [
    "# Realizarea predicție (y_pred) pe datele X_test\n",
    "y_pred = model.predict(X_test)"
   ]
  },
  {
   "cell_type": "code",
   "execution_count": 58,
   "id": "18a4e3c1",
   "metadata": {},
   "outputs": [
    {
     "data": {
      "text/plain": [
       "1.836072133375024"
      ]
     },
     "execution_count": 58,
     "metadata": {},
     "output_type": "execute_result"
    }
   ],
   "source": [
    "# Evaluarea modelului comparând y_pred cu y_test\n",
    "from sklearn.metrics import mean_squared_error\n",
    "mean_squared_error(y_test, y_pred)"
   ]
  },
  {
   "cell_type": "markdown",
   "id": "bacfcffc",
   "metadata": {},
   "source": [
    "<a id='validate'></a>\n",
    "# 4. Procedura cross validation utilizand functia cross_validate\n",
    "•\tPrelucrarea și ajustarea datelor în setul X și y\n",
    "\n",
    "•\tDivizarea seturilor X și y în seturi train și seturi test\n",
    "\n",
    "•\tCrearea și ajustarea unui obiecte de scalarea pe X_train\n",
    "\n",
    "•\tScalarea datelor X_train\n",
    "\n",
    "•\tScalarea datelor X_test\n",
    "\n",
    "•\tCrearea modelului\n",
    "\n",
    "•\tRealizarea procedurii cross validation si afisarea diferitor parametri ai acesteia\n",
    "\n",
    "•\tDeterminarea valorilor medii ale parametrilor cross validation\n",
    "\n",
    "•\tAjustarea hiperparametrilor modelului si reperarea ultimilor pasi\n",
    "\n",
    "•\tAjustarea modelului pe datele X_train, y_train\n",
    "\n",
    "•\tRealizarea predicție (y_pred) pe datele X_test\n",
    "\n",
    "•\tEvaluarea finala a modelului comparând y_pred cu y_test"
   ]
  },
  {
   "cell_type": "code",
   "execution_count": 59,
   "id": "7122da4b",
   "metadata": {},
   "outputs": [],
   "source": [
    "# Divizarea datelor in set X si set y\n",
    "X=df.drop('Sales', axis=1)\n",
    "y = df['Sales']\n",
    "\n",
    "# Divizarea seturilor X și y în seturi train și seturi test\n",
    "from sklearn.model_selection import train_test_split\n",
    "X_train, X_test, y_train, y_test = train_test_split(X, y, test_size=0.2, random_state=9)\n",
    "\n",
    "# Crearea și ajustarea unui obiecte de scalarea pe X_train\n",
    "from sklearn.preprocessing import StandardScaler\n",
    "scaler= StandardScaler()\n",
    "scaler.fit(X_train)\n",
    "\n",
    "# Scalarea datelor X_train\n",
    "X_train = scaler.transform(X_train)\n",
    "\n",
    "# Scalarea datelor X_test\n",
    "X_test = scaler.transform(X_test)"
   ]
  },
  {
   "cell_type": "code",
   "execution_count": 60,
   "id": "205bbbb7",
   "metadata": {},
   "outputs": [],
   "source": [
    "# Crearea modelului\n",
    "from sklearn.linear_model import Ridge\n",
    "model = Ridge(alpha=100)"
   ]
  },
  {
   "cell_type": "code",
   "execution_count": 64,
   "id": "c74f3900",
   "metadata": {},
   "outputs": [
    {
     "data": {
      "text/html": [
       "<div>\n",
       "<style scoped>\n",
       "    .dataframe tbody tr th:only-of-type {\n",
       "        vertical-align: middle;\n",
       "    }\n",
       "\n",
       "    .dataframe tbody tr th {\n",
       "        vertical-align: top;\n",
       "    }\n",
       "\n",
       "    .dataframe thead th {\n",
       "        text-align: right;\n",
       "    }\n",
       "</style>\n",
       "<table border=\"1\" class=\"dataframe\">\n",
       "  <thead>\n",
       "    <tr style=\"text-align: right;\">\n",
       "      <th></th>\n",
       "      <th>fit_time</th>\n",
       "      <th>score_time</th>\n",
       "      <th>test_neg_mean_squared_error</th>\n",
       "      <th>test_neg_mean_absolute_error</th>\n",
       "    </tr>\n",
       "  </thead>\n",
       "  <tbody>\n",
       "    <tr>\n",
       "      <th>0</th>\n",
       "      <td>0.000997</td>\n",
       "      <td>0.001000</td>\n",
       "      <td>-6.341531</td>\n",
       "      <td>-2.082891</td>\n",
       "    </tr>\n",
       "    <tr>\n",
       "      <th>1</th>\n",
       "      <td>0.000997</td>\n",
       "      <td>0.000000</td>\n",
       "      <td>-9.442253</td>\n",
       "      <td>-2.266126</td>\n",
       "    </tr>\n",
       "    <tr>\n",
       "      <th>2</th>\n",
       "      <td>0.000000</td>\n",
       "      <td>0.000997</td>\n",
       "      <td>-5.894993</td>\n",
       "      <td>-1.678238</td>\n",
       "    </tr>\n",
       "    <tr>\n",
       "      <th>3</th>\n",
       "      <td>0.000000</td>\n",
       "      <td>0.000998</td>\n",
       "      <td>-8.174991</td>\n",
       "      <td>-2.131081</td>\n",
       "    </tr>\n",
       "    <tr>\n",
       "      <th>4</th>\n",
       "      <td>0.000997</td>\n",
       "      <td>0.000000</td>\n",
       "      <td>-8.055315</td>\n",
       "      <td>-2.198539</td>\n",
       "    </tr>\n",
       "  </tbody>\n",
       "</table>\n",
       "</div>"
      ],
      "text/plain": [
       "   fit_time  score_time  test_neg_mean_squared_error  \\\n",
       "0  0.000997    0.001000                    -6.341531   \n",
       "1  0.000997    0.000000                    -9.442253   \n",
       "2  0.000000    0.000997                    -5.894993   \n",
       "3  0.000000    0.000998                    -8.174991   \n",
       "4  0.000997    0.000000                    -8.055315   \n",
       "\n",
       "   test_neg_mean_absolute_error  \n",
       "0                     -2.082891  \n",
       "1                     -2.266126  \n",
       "2                     -1.678238  \n",
       "3                     -2.131081  \n",
       "4                     -2.198539  "
      ]
     },
     "execution_count": 64,
     "metadata": {},
     "output_type": "execute_result"
    }
   ],
   "source": [
    "# Realizarea procedurii cross validation si afisarea diferitor parametri ai acesteia\n",
    "from sklearn.model_selection import cross_validate\n",
    "scores = cross_validate(model, X_train, y_train, scoring = [\"neg_mean_squared_error\", \"neg_mean_absolute_error\"], cv=5)\n",
    "scores = pd.DataFrame(scores)\n",
    "scores"
   ]
  },
  {
   "cell_type": "code",
   "execution_count": 65,
   "id": "d34fb2b3",
   "metadata": {},
   "outputs": [
    {
     "data": {
      "text/plain": [
       "fit_time                        0.000598\n",
       "score_time                      0.000599\n",
       "test_neg_mean_squared_error    -7.581817\n",
       "test_neg_mean_absolute_error   -2.071375\n",
       "dtype: float64"
      ]
     },
     "execution_count": 65,
     "metadata": {},
     "output_type": "execute_result"
    }
   ],
   "source": [
    "# Determinarea valorilor medii ale parametrilor cross validation\n",
    "scores.mean()"
   ]
  },
  {
   "cell_type": "code",
   "execution_count": 71,
   "id": "157d963c",
   "metadata": {},
   "outputs": [
    {
     "data": {
      "text/plain": [
       "fit_time                        0.001197\n",
       "score_time                      0.000199\n",
       "test_neg_mean_squared_error    -3.275001\n",
       "test_neg_mean_absolute_error   -1.329534\n",
       "dtype: float64"
      ]
     },
     "execution_count": 71,
     "metadata": {},
     "output_type": "execute_result"
    }
   ],
   "source": [
    "# Ajustarea hiperparametrului alpha si reperarea ultimilor pasi \n",
    "model = Ridge(alpha=10)\n",
    "scores = cross_validate(model, X_train, y_train, scoring = [\"neg_mean_squared_error\", \"neg_mean_absolute_error\"], cv=5)\n",
    "scores = pd.DataFrame(scores)\n",
    "scores.mean()"
   ]
  },
  {
   "cell_type": "code",
   "execution_count": 72,
   "id": "1a0325c1",
   "metadata": {},
   "outputs": [
    {
     "data": {
      "text/plain": [
       "fit_time                        0.000791\n",
       "score_time                      0.000400\n",
       "test_neg_mean_squared_error    -3.157741\n",
       "test_neg_mean_absolute_error   -1.315341\n",
       "dtype: float64"
      ]
     },
     "execution_count": 72,
     "metadata": {},
     "output_type": "execute_result"
    }
   ],
   "source": [
    "# Ajustarea hiperparametrului alpha si reperarea ultimilor pasi \n",
    "model = Ridge(alpha=1)\n",
    "scores = cross_validate(model, X_train, y_train, scoring = [\"neg_mean_squared_error\", \"neg_mean_absolute_error\"], cv=5)\n",
    "scores = pd.DataFrame(scores)\n",
    "scores.mean()"
   ]
  },
  {
   "cell_type": "code",
   "execution_count": 73,
   "id": "1ac5e912",
   "metadata": {},
   "outputs": [
    {
     "data": {
      "text/plain": [
       "Ridge(alpha=1)"
      ]
     },
     "execution_count": 73,
     "metadata": {},
     "output_type": "execute_result"
    }
   ],
   "source": [
    "# Ajustarea modelului pe datele X_train, y_train\n",
    "model.fit(X_train, y_train)"
   ]
  },
  {
   "cell_type": "code",
   "execution_count": 74,
   "id": "59c0ba24",
   "metadata": {},
   "outputs": [],
   "source": [
    "# Realizarea predicție (y_pred) pe datele X_test\n",
    "y_pred = model.predict(X_test)"
   ]
  },
  {
   "cell_type": "code",
   "execution_count": 75,
   "id": "c748104f",
   "metadata": {},
   "outputs": [
    {
     "data": {
      "text/plain": [
       "1.839753243392704"
      ]
     },
     "execution_count": 75,
     "metadata": {},
     "output_type": "execute_result"
    }
   ],
   "source": [
    "# Evaluarea modelului comparând y_pred cu y_test\n",
    "from sklearn.metrics import mean_squared_error\n",
    "mean_squared_error(y_test, y_pred)"
   ]
  },
  {
   "cell_type": "markdown",
   "id": "b51b39f6",
   "metadata": {},
   "source": [
    "<a id='grid'></a>\n",
    "# 5. Procedura Grid Search\n",
    "•\tPrelucrarea și ajustarea datelor în setul X și y\n",
    "\n",
    "•\tDivizarea seturilor X și y în seturi train și seturi test\n",
    "\n",
    "•\tCrearea și ajustarea unui obiecte de scalarea pe X_train\n",
    "\n",
    "•\tScalarea datelor X_train\n",
    "\n",
    "•\tCrearea modelului de baza cu parametri impliciți\n",
    "\n",
    "•\tCrearea unui dicționar cu parametrii modelului si valorile posibile ale acestora\n",
    "\n",
    "•\tCrearea modelului cu Grid Search\n",
    "\n",
    "•\tAjustarea modelului pe datele X_train, y_train\n",
    "\n",
    "•\tVizualizarea celor mai buni parametri si erori\n",
    "\n",
    "•\tRealizarea predicție (y_pred) pe datele X_test\n",
    "\n",
    "•\tEvaluarea finala a modelului comparând y_pred cu y_test"
   ]
  },
  {
   "cell_type": "code",
   "execution_count": 76,
   "id": "9852ba32",
   "metadata": {},
   "outputs": [],
   "source": [
    "# Divizarea datelor in set X si set y\n",
    "X=df.drop('Sales', axis=1)\n",
    "y = df['Sales']\n",
    "\n",
    "# Divizarea seturilor X și y în seturi train și seturi test\n",
    "from sklearn.model_selection import train_test_split\n",
    "X_train, X_test, y_train, y_test = train_test_split(X, y, test_size=0.2, random_state=9)\n",
    "\n",
    "# Crearea și ajustarea unui obiecte de scalarea pe X_train\n",
    "from sklearn.preprocessing import StandardScaler\n",
    "scaler= StandardScaler()\n",
    "scaler.fit(X_train)\n",
    "\n",
    "# Scalarea datelor X_train\n",
    "X_train = scaler.transform(X_train)\n",
    "\n",
    "# Scalarea datelor X_test\n",
    "X_test = scaler.transform(X_test)"
   ]
  },
  {
   "cell_type": "code",
   "execution_count": 77,
   "id": "2ae700e7",
   "metadata": {},
   "outputs": [],
   "source": [
    "# Crearea modelului de baza cu parametri impliciti\n",
    "from sklearn.linear_model import ElasticNet\n",
    "base_model = ElasticNet()"
   ]
  },
  {
   "cell_type": "code",
   "execution_count": 78,
   "id": "4ac48ae4",
   "metadata": {},
   "outputs": [],
   "source": [
    "# creara unui dictionar cu paramerii modelului si valorile posibile ale acestora\n",
    "param_grid = {'alpha':[0.1, 1, 5, 10, 50, 100], 'l1_ratio':[0, 0.1, 0.5, 0.7, 0.95, 0.99, 1]}"
   ]
  },
  {
   "cell_type": "code",
   "execution_count": 79,
   "id": "e55bc16c",
   "metadata": {},
   "outputs": [],
   "source": [
    "# crearea modelului cu Grid Search\n",
    "from sklearn.model_selection import GridSearchCV\n",
    "grid_model = GridSearchCV(estimator=base_model, param_grid=param_grid, scoring=\"neg_mean_squared_error\", cv=5, verbose=2 )"
   ]
  },
  {
   "cell_type": "code",
   "execution_count": 80,
   "id": "049bd678",
   "metadata": {},
   "outputs": [
    {
     "name": "stdout",
     "output_type": "stream",
     "text": [
      "Fitting 5 folds for each of 42 candidates, totalling 210 fits\n",
      "[CV] END ..............................alpha=0.1, l1_ratio=0; total time=   0.0s\n",
      "[CV] END ..............................alpha=0.1, l1_ratio=0; total time=   0.0s\n",
      "[CV] END ..............................alpha=0.1, l1_ratio=0; total time=   0.0s\n",
      "[CV] END ..............................alpha=0.1, l1_ratio=0; total time=   0.0s\n",
      "[CV] END ..............................alpha=0.1, l1_ratio=0; total time=   0.0s\n",
      "[CV] END ............................alpha=0.1, l1_ratio=0.1; total time=   0.0s\n",
      "[CV] END ............................alpha=0.1, l1_ratio=0.1; total time=   0.0s\n",
      "[CV] END ............................alpha=0.1, l1_ratio=0.1; total time=   0.0s\n",
      "[CV] END ............................alpha=0.1, l1_ratio=0.1; total time=   0.0s\n",
      "[CV] END ............................alpha=0.1, l1_ratio=0.1; total time=   0.0s\n",
      "[CV] END ............................alpha=0.1, l1_ratio=0.5; total time=   0.0s\n",
      "[CV] END ............................alpha=0.1, l1_ratio=0.5; total time=   0.0s\n",
      "[CV] END ............................alpha=0.1, l1_ratio=0.5; total time=   0.0s\n",
      "[CV] END ............................alpha=0.1, l1_ratio=0.5; total time=   0.0s\n",
      "[CV] END ............................alpha=0.1, l1_ratio=0.5; total time=   0.0s\n",
      "[CV] END ............................alpha=0.1, l1_ratio=0.7; total time=   0.0s\n",
      "[CV] END ............................alpha=0.1, l1_ratio=0.7; total time=   0.0s\n",
      "[CV] END ............................alpha=0.1, l1_ratio=0.7; total time=   0.0s\n",
      "[CV] END ............................alpha=0.1, l1_ratio=0.7; total time=   0.0s\n",
      "[CV] END ............................alpha=0.1, l1_ratio=0.7; total time=   0.0s\n",
      "[CV] END ...........................alpha=0.1, l1_ratio=0.95; total time=   0.0s\n",
      "[CV] END ...........................alpha=0.1, l1_ratio=0.95; total time=   0.0s\n",
      "[CV] END ...........................alpha=0.1, l1_ratio=0.95; total time=   0.0s\n",
      "[CV] END ...........................alpha=0.1, l1_ratio=0.95; total time=   0.0s\n",
      "[CV] END ...........................alpha=0.1, l1_ratio=0.95; total time=   0.0s\n",
      "[CV] END ...........................alpha=0.1, l1_ratio=0.99; total time=   0.0s\n",
      "[CV] END ...........................alpha=0.1, l1_ratio=0.99; total time=   0.0s\n",
      "[CV] END ...........................alpha=0.1, l1_ratio=0.99; total time=   0.0s\n",
      "[CV] END ...........................alpha=0.1, l1_ratio=0.99; total time=   0.0s\n",
      "[CV] END ...........................alpha=0.1, l1_ratio=0.99; total time=   0.0s\n",
      "[CV] END ..............................alpha=0.1, l1_ratio=1; total time=   0.0s\n",
      "[CV] END ..............................alpha=0.1, l1_ratio=1; total time=   0.0s\n",
      "[CV] END ..............................alpha=0.1, l1_ratio=1; total time=   0.0s\n",
      "[CV] END ..............................alpha=0.1, l1_ratio=1; total time=   0.0s\n",
      "[CV] END ..............................alpha=0.1, l1_ratio=1; total time=   0.0s\n",
      "[CV] END ................................alpha=1, l1_ratio=0; total time=   0.0s\n",
      "[CV] END ................................alpha=1, l1_ratio=0; total time=   0.0s\n",
      "[CV] END ................................alpha=1, l1_ratio=0; total time=   0.0s\n",
      "[CV] END ................................alpha=1, l1_ratio=0; total time=   0.0s\n",
      "[CV] END ................................alpha=1, l1_ratio=0; total time=   0.0s\n",
      "[CV] END ..............................alpha=1, l1_ratio=0.1; total time=   0.0s\n",
      "[CV] END ..............................alpha=1, l1_ratio=0.1; total time=   0.0s\n",
      "[CV] END ..............................alpha=1, l1_ratio=0.1; total time=   0.0s\n",
      "[CV] END ..............................alpha=1, l1_ratio=0.1; total time=   0.0s\n",
      "[CV] END ..............................alpha=1, l1_ratio=0.1; total time=   0.0s\n",
      "[CV] END ..............................alpha=1, l1_ratio=0.5; total time=   0.0s\n",
      "[CV] END ..............................alpha=1, l1_ratio=0.5; total time=   0.0s\n",
      "[CV] END ..............................alpha=1, l1_ratio=0.5; total time=   0.0s\n",
      "[CV] END ..............................alpha=1, l1_ratio=0.5; total time=   0.0s\n",
      "[CV] END ..............................alpha=1, l1_ratio=0.5; total time=   0.0s\n",
      "[CV] END ..............................alpha=1, l1_ratio=0.7; total time=   0.0s\n",
      "[CV] END ..............................alpha=1, l1_ratio=0.7; total time=   0.0s\n",
      "[CV] END ..............................alpha=1, l1_ratio=0.7; total time=   0.0s\n",
      "[CV] END ..............................alpha=1, l1_ratio=0.7; total time=   0.0s\n",
      "[CV] END ..............................alpha=1, l1_ratio=0.7; total time=   0.0s\n",
      "[CV] END .............................alpha=1, l1_ratio=0.95; total time=   0.0s\n",
      "[CV] END .............................alpha=1, l1_ratio=0.95; total time=   0.0s\n",
      "[CV] END .............................alpha=1, l1_ratio=0.95; total time=   0.0s\n",
      "[CV] END .............................alpha=1, l1_ratio=0.95; total time=   0.0s\n",
      "[CV] END .............................alpha=1, l1_ratio=0.95; total time=   0.0s\n",
      "[CV] END .............................alpha=1, l1_ratio=0.99; total time=   0.0s\n",
      "[CV] END .............................alpha=1, l1_ratio=0.99; total time=   0.0s\n",
      "[CV] END .............................alpha=1, l1_ratio=0.99; total time=   0.0s\n",
      "[CV] END .............................alpha=1, l1_ratio=0.99; total time=   0.0s\n",
      "[CV] END .............................alpha=1, l1_ratio=0.99; total time=   0.0s\n",
      "[CV] END ................................alpha=1, l1_ratio=1; total time=   0.0s\n",
      "[CV] END ................................alpha=1, l1_ratio=1; total time=   0.0s\n",
      "[CV] END ................................alpha=1, l1_ratio=1; total time=   0.0s\n",
      "[CV] END ................................alpha=1, l1_ratio=1; total time=   0.0s\n",
      "[CV] END ................................alpha=1, l1_ratio=1; total time=   0.0s\n",
      "[CV] END ................................alpha=5, l1_ratio=0; total time=   0.0s\n",
      "[CV] END ................................alpha=5, l1_ratio=0; total time=   0.0s\n",
      "[CV] END ................................alpha=5, l1_ratio=0; total time=   0.0s\n",
      "[CV] END ................................alpha=5, l1_ratio=0; total time=   0.0s\n",
      "[CV] END ................................alpha=5, l1_ratio=0; total time=   0.0s\n",
      "[CV] END ..............................alpha=5, l1_ratio=0.1; total time=   0.0s\n",
      "[CV] END ..............................alpha=5, l1_ratio=0.1; total time=   0.0s\n",
      "[CV] END ..............................alpha=5, l1_ratio=0.1; total time=   0.0s\n",
      "[CV] END ..............................alpha=5, l1_ratio=0.1; total time=   0.0s\n",
      "[CV] END ..............................alpha=5, l1_ratio=0.1; total time=   0.0s\n",
      "[CV] END ..............................alpha=5, l1_ratio=0.5; total time=   0.0s\n",
      "[CV] END ..............................alpha=5, l1_ratio=0.5; total time=   0.0s\n",
      "[CV] END ..............................alpha=5, l1_ratio=0.5; total time=   0.0s\n",
      "[CV] END ..............................alpha=5, l1_ratio=0.5; total time=   0.0s\n",
      "[CV] END ..............................alpha=5, l1_ratio=0.5; total time=   0.0s\n",
      "[CV] END ..............................alpha=5, l1_ratio=0.7; total time=   0.0s\n",
      "[CV] END ..............................alpha=5, l1_ratio=0.7; total time=   0.0s\n",
      "[CV] END ..............................alpha=5, l1_ratio=0.7; total time=   0.0s\n",
      "[CV] END ..............................alpha=5, l1_ratio=0.7; total time=   0.0s\n",
      "[CV] END ..............................alpha=5, l1_ratio=0.7; total time=   0.0s\n",
      "[CV] END .............................alpha=5, l1_ratio=0.95; total time=   0.0s\n",
      "[CV] END .............................alpha=5, l1_ratio=0.95; total time=   0.0s\n",
      "[CV] END .............................alpha=5, l1_ratio=0.95; total time=   0.0s\n",
      "[CV] END .............................alpha=5, l1_ratio=0.95; total time=   0.0s\n",
      "[CV] END .............................alpha=5, l1_ratio=0.95; total time=   0.0s\n",
      "[CV] END .............................alpha=5, l1_ratio=0.99; total time=   0.0s\n",
      "[CV] END .............................alpha=5, l1_ratio=0.99; total time=   0.0s\n",
      "[CV] END .............................alpha=5, l1_ratio=0.99; total time=   0.0s\n",
      "[CV] END .............................alpha=5, l1_ratio=0.99; total time=   0.0s\n",
      "[CV] END .............................alpha=5, l1_ratio=0.99; total time=   0.0s\n",
      "[CV] END ................................alpha=5, l1_ratio=1; total time=   0.0s\n",
      "[CV] END ................................alpha=5, l1_ratio=1; total time=   0.0s\n",
      "[CV] END ................................alpha=5, l1_ratio=1; total time=   0.0s\n",
      "[CV] END ................................alpha=5, l1_ratio=1; total time=   0.0s\n",
      "[CV] END ................................alpha=5, l1_ratio=1; total time=   0.0s\n",
      "[CV] END ...............................alpha=10, l1_ratio=0; total time=   0.0s\n",
      "[CV] END ...............................alpha=10, l1_ratio=0; total time=   0.0s\n",
      "[CV] END ...............................alpha=10, l1_ratio=0; total time=   0.0s\n",
      "[CV] END ...............................alpha=10, l1_ratio=0; total time=   0.0s\n",
      "[CV] END ...............................alpha=10, l1_ratio=0; total time=   0.0s\n",
      "[CV] END .............................alpha=10, l1_ratio=0.1; total time=   0.0s\n",
      "[CV] END .............................alpha=10, l1_ratio=0.1; total time=   0.0s\n",
      "[CV] END .............................alpha=10, l1_ratio=0.1; total time=   0.0s\n",
      "[CV] END .............................alpha=10, l1_ratio=0.1; total time=   0.0s\n",
      "[CV] END .............................alpha=10, l1_ratio=0.1; total time=   0.0s\n",
      "[CV] END .............................alpha=10, l1_ratio=0.5; total time=   0.0s\n",
      "[CV] END .............................alpha=10, l1_ratio=0.5; total time=   0.0s\n"
     ]
    },
    {
     "name": "stderr",
     "output_type": "stream",
     "text": [
      "C:\\Users\\Nicolaev\\anaconda3\\lib\\site-packages\\sklearn\\linear_model\\_coordinate_descent.py:530: ConvergenceWarning: Objective did not converge. You might want to increase the number of iterations. Duality gap: 335.99542214259776, tolerance: 0.35841571875\n",
      "  model = cd_fast.enet_coordinate_descent(\n",
      "C:\\Users\\Nicolaev\\anaconda3\\lib\\site-packages\\sklearn\\linear_model\\_coordinate_descent.py:530: ConvergenceWarning: Objective did not converge. You might want to increase the number of iterations. Duality gap: 328.00601787198275, tolerance: 0.32967796875\n",
      "  model = cd_fast.enet_coordinate_descent(\n",
      "C:\\Users\\Nicolaev\\anaconda3\\lib\\site-packages\\sklearn\\linear_model\\_coordinate_descent.py:530: ConvergenceWarning: Objective did not converge. You might want to increase the number of iterations. Duality gap: 310.838313409819, tolerance: 0.38339546874999997\n",
      "  model = cd_fast.enet_coordinate_descent(\n",
      "C:\\Users\\Nicolaev\\anaconda3\\lib\\site-packages\\sklearn\\linear_model\\_coordinate_descent.py:530: ConvergenceWarning: Objective did not converge. You might want to increase the number of iterations. Duality gap: 328.48145210702205, tolerance: 0.3412787421875\n",
      "  model = cd_fast.enet_coordinate_descent(\n",
      "C:\\Users\\Nicolaev\\anaconda3\\lib\\site-packages\\sklearn\\linear_model\\_coordinate_descent.py:530: ConvergenceWarning: Objective did not converge. You might want to increase the number of iterations. Duality gap: 329.2168660736184, tolerance: 0.3414477421875\n",
      "  model = cd_fast.enet_coordinate_descent(\n",
      "C:\\Users\\Nicolaev\\anaconda3\\lib\\site-packages\\sklearn\\linear_model\\_coordinate_descent.py:530: ConvergenceWarning: Objective did not converge. You might want to increase the number of iterations. Duality gap: 912.1523486582685, tolerance: 0.32967796875\n",
      "  model = cd_fast.enet_coordinate_descent(\n",
      "C:\\Users\\Nicolaev\\anaconda3\\lib\\site-packages\\sklearn\\linear_model\\_coordinate_descent.py:530: ConvergenceWarning: Objective did not converge. You might want to increase the number of iterations. Duality gap: 1578.3390368401242, tolerance: 0.38339546874999997\n",
      "  model = cd_fast.enet_coordinate_descent(\n",
      "C:\\Users\\Nicolaev\\anaconda3\\lib\\site-packages\\sklearn\\linear_model\\_coordinate_descent.py:530: ConvergenceWarning: Objective did not converge. You might want to increase the number of iterations. Duality gap: 1561.3145791255, tolerance: 0.3414477421875\n",
      "  model = cd_fast.enet_coordinate_descent(\n"
     ]
    },
    {
     "name": "stdout",
     "output_type": "stream",
     "text": [
      "[CV] END .............................alpha=10, l1_ratio=0.5; total time=   0.0s\n",
      "[CV] END .............................alpha=10, l1_ratio=0.5; total time=   0.0s\n",
      "[CV] END .............................alpha=10, l1_ratio=0.5; total time=   0.0s\n",
      "[CV] END .............................alpha=10, l1_ratio=0.7; total time=   0.0s\n",
      "[CV] END .............................alpha=10, l1_ratio=0.7; total time=   0.0s\n",
      "[CV] END .............................alpha=10, l1_ratio=0.7; total time=   0.0s\n",
      "[CV] END .............................alpha=10, l1_ratio=0.7; total time=   0.0s\n",
      "[CV] END .............................alpha=10, l1_ratio=0.7; total time=   0.0s\n",
      "[CV] END ............................alpha=10, l1_ratio=0.95; total time=   0.0s\n",
      "[CV] END ............................alpha=10, l1_ratio=0.95; total time=   0.0s\n",
      "[CV] END ............................alpha=10, l1_ratio=0.95; total time=   0.0s\n",
      "[CV] END ............................alpha=10, l1_ratio=0.95; total time=   0.0s\n",
      "[CV] END ............................alpha=10, l1_ratio=0.95; total time=   0.0s\n",
      "[CV] END ............................alpha=10, l1_ratio=0.99; total time=   0.0s\n",
      "[CV] END ............................alpha=10, l1_ratio=0.99; total time=   0.0s\n",
      "[CV] END ............................alpha=10, l1_ratio=0.99; total time=   0.0s\n",
      "[CV] END ............................alpha=10, l1_ratio=0.99; total time=   0.0s\n",
      "[CV] END ............................alpha=10, l1_ratio=0.99; total time=   0.0s\n",
      "[CV] END ...............................alpha=10, l1_ratio=1; total time=   0.0s\n",
      "[CV] END ...............................alpha=10, l1_ratio=1; total time=   0.0s\n",
      "[CV] END ...............................alpha=10, l1_ratio=1; total time=   0.0s\n",
      "[CV] END ...............................alpha=10, l1_ratio=1; total time=   0.0s\n",
      "[CV] END ...............................alpha=10, l1_ratio=1; total time=   0.0s\n",
      "[CV] END ...............................alpha=50, l1_ratio=0; total time=   0.0s\n",
      "[CV] END ...............................alpha=50, l1_ratio=0; total time=   0.0s\n",
      "[CV] END ...............................alpha=50, l1_ratio=0; total time=   0.0s\n",
      "[CV] END ...............................alpha=50, l1_ratio=0; total time=   0.0s\n",
      "[CV] END ...............................alpha=50, l1_ratio=0; total time=   0.0s\n",
      "[CV] END .............................alpha=50, l1_ratio=0.1; total time=   0.0s\n",
      "[CV] END .............................alpha=50, l1_ratio=0.1; total time=   0.0s\n",
      "[CV] END .............................alpha=50, l1_ratio=0.1; total time=   0.0s\n",
      "[CV] END .............................alpha=50, l1_ratio=0.1; total time=   0.0s\n",
      "[CV] END .............................alpha=50, l1_ratio=0.1; total time=   0.0s\n",
      "[CV] END .............................alpha=50, l1_ratio=0.5; total time=   0.0s\n",
      "[CV] END .............................alpha=50, l1_ratio=0.5; total time=   0.0s\n",
      "[CV] END .............................alpha=50, l1_ratio=0.5; total time=   0.0s\n",
      "[CV] END .............................alpha=50, l1_ratio=0.5; total time=   0.0s\n",
      "[CV] END .............................alpha=50, l1_ratio=0.5; total time=   0.0s\n",
      "[CV] END .............................alpha=50, l1_ratio=0.7; total time=   0.0s\n",
      "[CV] END .............................alpha=50, l1_ratio=0.7; total time=   0.0s\n",
      "[CV] END .............................alpha=50, l1_ratio=0.7; total time=   0.0s\n",
      "[CV] END .............................alpha=50, l1_ratio=0.7; total time=   0.0s\n",
      "[CV] END .............................alpha=50, l1_ratio=0.7; total time=   0.0s\n",
      "[CV] END ............................alpha=50, l1_ratio=0.95; total time=   0.0s\n",
      "[CV] END ............................alpha=50, l1_ratio=0.95; total time=   0.0s\n",
      "[CV] END ............................alpha=50, l1_ratio=0.95; total time=   0.0s\n",
      "[CV] END ............................alpha=50, l1_ratio=0.95; total time=   0.0s\n",
      "[CV] END ............................alpha=50, l1_ratio=0.95; total time=   0.0s\n",
      "[CV] END ............................alpha=50, l1_ratio=0.99; total time=   0.0s\n",
      "[CV] END ............................alpha=50, l1_ratio=0.99; total time=   0.0s\n",
      "[CV] END ............................alpha=50, l1_ratio=0.99; total time=   0.0s\n",
      "[CV] END ............................alpha=50, l1_ratio=0.99; total time=   0.0s\n",
      "[CV] END ............................alpha=50, l1_ratio=0.99; total time=   0.0s\n",
      "[CV] END ...............................alpha=50, l1_ratio=1; total time=   0.0s\n",
      "[CV] END ...............................alpha=50, l1_ratio=1; total time=   0.0s\n",
      "[CV] END ...............................alpha=50, l1_ratio=1; total time=   0.0s\n",
      "[CV] END ...............................alpha=50, l1_ratio=1; total time=   0.0s\n",
      "[CV] END ...............................alpha=50, l1_ratio=1; total time=   0.0s\n",
      "[CV] END ..............................alpha=100, l1_ratio=0; total time=   0.0s\n",
      "[CV] END ..............................alpha=100, l1_ratio=0; total time=   0.0s\n",
      "[CV] END ..............................alpha=100, l1_ratio=0; total time=   0.0s\n",
      "[CV] END ..............................alpha=100, l1_ratio=0; total time=   0.0s\n",
      "[CV] END ..............................alpha=100, l1_ratio=0; total time=   0.0s\n",
      "[CV] END ............................alpha=100, l1_ratio=0.1; total time=   0.0s\n",
      "[CV] END ............................alpha=100, l1_ratio=0.1; total time=   0.0s\n",
      "[CV] END ............................alpha=100, l1_ratio=0.1; total time=   0.0s\n",
      "[CV] END ............................alpha=100, l1_ratio=0.1; total time=   0.0s\n",
      "[CV] END ............................alpha=100, l1_ratio=0.1; total time=   0.0s\n",
      "[CV] END ............................alpha=100, l1_ratio=0.5; total time=   0.0s\n",
      "[CV] END ............................alpha=100, l1_ratio=0.5; total time=   0.0s\n",
      "[CV] END ............................alpha=100, l1_ratio=0.5; total time=   0.0s\n",
      "[CV] END ............................alpha=100, l1_ratio=0.5; total time=   0.0s\n",
      "[CV] END ............................alpha=100, l1_ratio=0.5; total time=   0.0s\n",
      "[CV] END ............................alpha=100, l1_ratio=0.7; total time=   0.0s\n",
      "[CV] END ............................alpha=100, l1_ratio=0.7; total time=   0.0s\n",
      "[CV] END ............................alpha=100, l1_ratio=0.7; total time=   0.0s\n",
      "[CV] END ............................alpha=100, l1_ratio=0.7; total time=   0.0s\n",
      "[CV] END ............................alpha=100, l1_ratio=0.7; total time=   0.0s\n",
      "[CV] END ...........................alpha=100, l1_ratio=0.95; total time=   0.0s\n",
      "[CV] END ...........................alpha=100, l1_ratio=0.95; total time=   0.0s\n",
      "[CV] END ...........................alpha=100, l1_ratio=0.95; total time=   0.0s\n",
      "[CV] END ...........................alpha=100, l1_ratio=0.95; total time=   0.0s\n",
      "[CV] END ...........................alpha=100, l1_ratio=0.95; total time=   0.0s\n",
      "[CV] END ...........................alpha=100, l1_ratio=0.99; total time=   0.0s\n",
      "[CV] END ...........................alpha=100, l1_ratio=0.99; total time=   0.0s\n",
      "[CV] END ...........................alpha=100, l1_ratio=0.99; total time=   0.0s\n",
      "[CV] END ...........................alpha=100, l1_ratio=0.99; total time=   0.0s\n",
      "[CV] END ...........................alpha=100, l1_ratio=0.99; total time=   0.0s\n",
      "[CV] END ..............................alpha=100, l1_ratio=1; total time=   0.0s\n",
      "[CV] END ..............................alpha=100, l1_ratio=1; total time=   0.0s\n",
      "[CV] END ..............................alpha=100, l1_ratio=1; total time=   0.0s\n",
      "[CV] END ..............................alpha=100, l1_ratio=1; total time=   0.0s\n",
      "[CV] END ..............................alpha=100, l1_ratio=1; total time=   0.0s\n"
     ]
    },
    {
     "name": "stderr",
     "output_type": "stream",
     "text": [
      "C:\\Users\\Nicolaev\\anaconda3\\lib\\site-packages\\sklearn\\linear_model\\_coordinate_descent.py:530: ConvergenceWarning: Objective did not converge. You might want to increase the number of iterations. Duality gap: 1757.2476574312955, tolerance: 0.35841571875\n",
      "  model = cd_fast.enet_coordinate_descent(\n",
      "C:\\Users\\Nicolaev\\anaconda3\\lib\\site-packages\\sklearn\\linear_model\\_coordinate_descent.py:530: ConvergenceWarning: Objective did not converge. You might want to increase the number of iterations. Duality gap: 1674.6238576733565, tolerance: 0.3412787421875\n",
      "  model = cd_fast.enet_coordinate_descent(\n",
      "C:\\Users\\Nicolaev\\anaconda3\\lib\\site-packages\\sklearn\\linear_model\\_coordinate_descent.py:530: ConvergenceWarning: Objective did not converge. You might want to increase the number of iterations. Duality gap: 1675.4943580884476, tolerance: 0.3414477421875\n",
      "  model = cd_fast.enet_coordinate_descent(\n",
      "C:\\Users\\Nicolaev\\anaconda3\\lib\\site-packages\\sklearn\\linear_model\\_coordinate_descent.py:530: ConvergenceWarning: Objective did not converge. You might want to increase the number of iterations. Duality gap: 1774.4631470321042, tolerance: 0.35841571875\n",
      "  model = cd_fast.enet_coordinate_descent(\n",
      "C:\\Users\\Nicolaev\\anaconda3\\lib\\site-packages\\sklearn\\linear_model\\_coordinate_descent.py:530: ConvergenceWarning: Objective did not converge. You might want to increase the number of iterations. Duality gap: 1633.3325653777115, tolerance: 0.32967796875\n",
      "  model = cd_fast.enet_coordinate_descent(\n",
      "C:\\Users\\Nicolaev\\anaconda3\\lib\\site-packages\\sklearn\\linear_model\\_coordinate_descent.py:530: ConvergenceWarning: Objective did not converge. You might want to increase the number of iterations. Duality gap: 1896.0832059209683, tolerance: 0.38339546874999997\n",
      "  model = cd_fast.enet_coordinate_descent(\n",
      "C:\\Users\\Nicolaev\\anaconda3\\lib\\site-packages\\sklearn\\linear_model\\_coordinate_descent.py:530: ConvergenceWarning: Objective did not converge. You might want to increase the number of iterations. Duality gap: 1690.334505716923, tolerance: 0.3412787421875\n",
      "  model = cd_fast.enet_coordinate_descent(\n",
      "C:\\Users\\Nicolaev\\anaconda3\\lib\\site-packages\\sklearn\\linear_model\\_coordinate_descent.py:530: ConvergenceWarning: Objective did not converge. You might want to increase the number of iterations. Duality gap: 1691.189897399136, tolerance: 0.3414477421875\n",
      "  model = cd_fast.enet_coordinate_descent(\n"
     ]
    },
    {
     "data": {
      "text/plain": [
       "GridSearchCV(cv=5, estimator=ElasticNet(),\n",
       "             param_grid={'alpha': [0.1, 1, 5, 10, 50, 100],\n",
       "                         'l1_ratio': [0, 0.1, 0.5, 0.7, 0.95, 0.99, 1]},\n",
       "             scoring='neg_mean_squared_error', verbose=2)"
      ]
     },
     "execution_count": 80,
     "metadata": {},
     "output_type": "execute_result"
    }
   ],
   "source": [
    "# Ajustarea modelului pe datele X_train, y_train\n",
    "grid_model.fit(X_train, y_train)"
   ]
  },
  {
   "cell_type": "code",
   "execution_count": 81,
   "id": "b616e32b",
   "metadata": {},
   "outputs": [
    {
     "data": {
      "text/plain": [
       "{'alpha': 0.1, 'l1_ratio': 1}"
      ]
     },
     "execution_count": 81,
     "metadata": {},
     "output_type": "execute_result"
    }
   ],
   "source": [
    "# vizualizarea celor mai buni parametri\n",
    "grid_model.best_params_"
   ]
  },
  {
   "cell_type": "code",
   "execution_count": 82,
   "id": "4d6a906f",
   "metadata": {},
   "outputs": [
    {
     "data": {
      "text/plain": [
       "-3.1253807654373977"
      ]
     },
     "execution_count": 82,
     "metadata": {},
     "output_type": "execute_result"
    }
   ],
   "source": [
    "# vizualizarea celei mai bune erori\n",
    "grid_model.best_score_"
   ]
  },
  {
   "cell_type": "code",
   "execution_count": 83,
   "id": "2970b42a",
   "metadata": {},
   "outputs": [],
   "source": [
    "# Realizarea predicție (y_pred) pe datele X_test\n",
    "y_pred = grid_model.predict(X_test)"
   ]
  },
  {
   "cell_type": "code",
   "execution_count": 84,
   "id": "84c1a44c",
   "metadata": {},
   "outputs": [
    {
     "data": {
      "text/plain": [
       "1.8680823977111687"
      ]
     },
     "execution_count": 84,
     "metadata": {},
     "output_type": "execute_result"
    }
   ],
   "source": [
    "# Evaluarea modelului comparând y_pred cu y_test\n",
    "mean_squared_error(y_test, y_pred)"
   ]
  },
  {
   "cell_type": "code",
   "execution_count": null,
   "id": "d3f97a1e",
   "metadata": {},
   "outputs": [],
   "source": []
  }
 ],
 "metadata": {
  "kernelspec": {
   "display_name": "Python 3 (ipykernel)",
   "language": "python",
   "name": "python3"
  },
  "language_info": {
   "codemirror_mode": {
    "name": "ipython",
    "version": 3
   },
   "file_extension": ".py",
   "mimetype": "text/x-python",
   "name": "python",
   "nbconvert_exporter": "python",
   "pygments_lexer": "ipython3",
   "version": "3.9.7"
  }
 },
 "nbformat": 4,
 "nbformat_minor": 5
}
